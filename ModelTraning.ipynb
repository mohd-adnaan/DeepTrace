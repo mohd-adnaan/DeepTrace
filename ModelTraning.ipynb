{
 "cells": [
  {
   "cell_type": "code",
   "execution_count": 8,
   "id": "808b2baf-f94e-4f68-9820-f3b2a7ab5a8d",
   "metadata": {},
   "outputs": [],
   "source": [
    "import os\n",
    "import tensorflow as tf\n",
    "from tensorflow.keras.preprocessing.image import ImageDataGenerator\n",
    "from tensorflow.keras import layers, models\n",
    "from tensorflow.keras.optimizers import Adam\n",
    "from tensorflow.keras.callbacks import EarlyStopping"
   ]
  },
  {
   "cell_type": "code",
   "execution_count": 9,
   "id": "ab4d8993-2e95-4433-aeb2-e5e62af9ca2f",
   "metadata": {},
   "outputs": [],
   "source": [
    "import warnings\n",
    "warnings.filterwarnings('ignore', category=UserWarning, module='keras.src.trainers.data_adapters.py_dataset_adapter')"
   ]
  },
  {
   "cell_type": "code",
   "execution_count": 10,
   "id": "f3e1ace6-7863-4228-9e4a-323ee9d71e59",
   "metadata": {},
   "outputs": [],
   "source": [
    "# Define the dataset path and other parameters\n",
    "dataset_path = '/Users/mohammadadnaan/Downloads/7thSem/MajorProject/Model/tinyDataSet/ucid'\n",
    "image_size = (64, 64)  # As mentioned in the paper\n",
    "batch_size = 32"
   ]
  },
  {
   "cell_type": "code",
   "execution_count": 11,
   "id": "8c8cbc33-86f2-4c8b-8931-6d3c914712ae",
   "metadata": {},
   "outputs": [],
   "source": [
    "# Data augmentation and rescaling\n",
    "train_datagen = ImageDataGenerator(\n",
    "    rescale=1./255,\n",
    "    validation_split=0.2  # Split for validation data\n",
    ")"
   ]
  },
  {
   "cell_type": "code",
   "execution_count": 12,
   "id": "d24d9f4e-9ddd-4949-87dd-81a2b1f13933",
   "metadata": {},
   "outputs": [
    {
     "name": "stdout",
     "output_type": "stream",
     "text": [
      "Found 8242 images belonging to 10 classes.\n"
     ]
    }
   ],
   "source": [
    "# Load training images from directories\n",
    "train_generator = train_datagen.flow_from_directory(\n",
    "    dataset_path,\n",
    "    target_size=image_size,\n",
    "    batch_size=batch_size,\n",
    "    class_mode='categorical',\n",
    "    subset='training'\n",
    ")"
   ]
  },
  {
   "cell_type": "code",
   "execution_count": 13,
   "id": "521e8647-3aa4-4dea-8ace-a734a5dcc17a",
   "metadata": {},
   "outputs": [
    {
     "name": "stdout",
     "output_type": "stream",
     "text": [
      "Found 2060 images belonging to 10 classes.\n"
     ]
    }
   ],
   "source": [
    "# Load validation images from directories\n",
    "validation_generator = train_datagen.flow_from_directory(\n",
    "    dataset_path,\n",
    "    target_size=image_size,\n",
    "    batch_size=batch_size,\n",
    "    class_mode='categorical',\n",
    "    subset='validation'\n",
    ")"
   ]
  },
  {
   "cell_type": "code",
   "execution_count": 14,
   "id": "ffd9c1f5-92fe-4ecf-b261-633db3790798",
   "metadata": {},
   "outputs": [
    {
     "name": "stdout",
     "output_type": "stream",
     "text": [
      "Found 8242 images belonging to 10 classes.\n"
     ]
    }
   ],
   "source": [
    "# Load training images from directories\n",
    "train_generator = train_datagen.flow_from_directory(\n",
    "    dataset_path,\n",
    "    target_size=image_size,\n",
    "    batch_size=batch_size,\n",
    "    class_mode='categorical',\n",
    "    subset='training'\n",
    ")"
   ]
  },
  {
   "cell_type": "code",
   "execution_count": 15,
   "id": "4cb516eb-ad00-4a21-95da-583f2baed8a8",
   "metadata": {},
   "outputs": [],
   "source": [
    "# Build the CNN model based on the paper\n",
    "model = models.Sequential()\n",
    "\n",
    "# Add an Input layer to define the input shape\n",
    "model.add(layers.Input(shape=(64, 64, 3)))"
   ]
  },
  {
   "cell_type": "code",
   "execution_count": 16,
   "id": "7f8213cf-1f29-4741-a4bd-83da3857e889",
   "metadata": {},
   "outputs": [],
   "source": [
    "# First set of Conv + BatchNorm + Pool layers\n",
    "model.add(layers.Conv2D(16, (3, 3), activation='relu'))\n",
    "model.add(layers.Conv2D(32, (3, 3), activation='relu'))\n",
    "model.add(layers.BatchNormalization())\n",
    "model.add(layers.MaxPooling2D((2, 2)))"
   ]
  },
  {
   "cell_type": "code",
   "execution_count": 17,
   "id": "5c42c852-8fa2-4a0c-9ba1-9aff5f9d18aa",
   "metadata": {},
   "outputs": [],
   "source": [
    "# Second set of Conv + BatchNorm + Pool layers\n",
    "model.add(layers.Conv2D(32, (3, 3), activation='relu'))\n",
    "model.add(layers.Conv2D(32, (3, 3), activation='relu'))\n",
    "model.add(layers.BatchNormalization())\n",
    "model.add(layers.MaxPooling2D((2, 2)))\n"
   ]
  },
  {
   "cell_type": "code",
   "execution_count": 18,
   "id": "e9a1f3b6-d38a-460b-b9e4-74f5d45d768e",
   "metadata": {},
   "outputs": [],
   "source": [
    "# Third set of Conv + BatchNorm + Pool layers\n",
    "model.add(layers.Conv2D(64, (3, 3), activation='relu'))\n",
    "model.add(layers.BatchNormalization())\n",
    "model.add(layers.MaxPooling2D((2, 2)))"
   ]
  },
  {
   "cell_type": "code",
   "execution_count": 19,
   "id": "2b048ae4-96e0-4209-aaa7-41e71c3510ff",
   "metadata": {},
   "outputs": [],
   "source": [
    "# Flatten the output for Dense layers\n",
    "model.add(layers.Flatten())"
   ]
  },
  {
   "cell_type": "code",
   "execution_count": 20,
   "id": "32b37e7b-4e73-4f55-8293-f98e75d1c653",
   "metadata": {},
   "outputs": [],
   "source": [
    "# First dense layer with 512 neurons and dropout\n",
    "model.add(layers.Dense(512, activation='relu'))\n",
    "model.add(layers.Dropout(0.5))"
   ]
  },
  {
   "cell_type": "code",
   "execution_count": 21,
   "id": "635759bf-fa75-419b-9cc8-433b25b571f9",
   "metadata": {},
   "outputs": [],
   "source": [
    "# Second dense layer with 128 neurons and dropout\n",
    "model.add(layers.Dense(128, activation='relu'))\n",
    "model.add(layers.Dropout(0.5))"
   ]
  },
  {
   "cell_type": "code",
   "execution_count": 22,
   "id": "1a3be092-fbab-4757-89c5-ca1c63761bb0",
   "metadata": {},
   "outputs": [],
   "source": [
    "# Output layer (classification into 7 classes)\n",
    "model.add(layers.Dense(train_generator.num_classes, activation='softmax'))"
   ]
  },
  {
   "cell_type": "code",
   "execution_count": 23,
   "id": "53b40fc5-bc78-4ff6-9fa5-ed3a93d686a8",
   "metadata": {},
   "outputs": [],
   "source": [
    "# Compile with a lower learning rate\n",
    "model.compile(optimizer=Adam(learning_rate=1e-4),\n",
    "              loss='categorical_crossentropy',\n",
    "              metrics=['accuracy'])"
   ]
  },
  {
   "cell_type": "code",
   "execution_count": 24,
   "id": "c86c3dc9-5faf-4a74-adec-b09c4e684f79",
   "metadata": {},
   "outputs": [],
   "source": [
    "# Early stopping\n",
    "early_stopping = EarlyStopping(monitor='val_loss', patience=3, restore_best_weights=True)"
   ]
  },
  {
   "cell_type": "code",
   "execution_count": null,
   "id": "ff44e096-b011-4277-b663-49efd31934f3",
   "metadata": {},
   "outputs": [
    {
     "name": "stdout",
     "output_type": "stream",
     "text": [
      "Epoch 1/100\n",
      "\u001b[1m258/258\u001b[0m \u001b[32m━━━━━━━━━━━━━━━━━━━━\u001b[0m\u001b[37m\u001b[0m \u001b[1m31s\u001b[0m 105ms/step - accuracy: 0.1053 - loss: 3.3133 - val_accuracy: 0.1005 - val_loss: 2.4361\n",
      "Epoch 2/100\n",
      "\u001b[1m258/258\u001b[0m \u001b[32m━━━━━━━━━━━━━━━━━━━━\u001b[0m\u001b[37m\u001b[0m \u001b[1m29s\u001b[0m 109ms/step - accuracy: 0.1036 - loss: 2.4357 - val_accuracy: 0.1000 - val_loss: 2.3365\n",
      "Epoch 3/100\n",
      "\u001b[1m258/258\u001b[0m \u001b[32m━━━━━━━━━━━━━━━━━━━━\u001b[0m\u001b[37m\u001b[0m \u001b[1m28s\u001b[0m 106ms/step - accuracy: 0.1131 - loss: 2.3528 - val_accuracy: 0.1282 - val_loss: 2.2886\n",
      "Epoch 4/100\n",
      "\u001b[1m258/258\u001b[0m \u001b[32m━━━━━━━━━━━━━━━━━━━━\u001b[0m\u001b[37m\u001b[0m \u001b[1m31s\u001b[0m 119ms/step - accuracy: 0.1143 - loss: 2.3337 - val_accuracy: 0.1413 - val_loss: 2.2800\n",
      "Epoch 5/100\n",
      "\u001b[1m258/258\u001b[0m \u001b[32m━━━━━━━━━━━━━━━━━━━━\u001b[0m\u001b[37m\u001b[0m \u001b[1m30s\u001b[0m 113ms/step - accuracy: 0.1288 - loss: 2.3039 - val_accuracy: 0.1650 - val_loss: 2.2610\n",
      "Epoch 6/100\n",
      "\u001b[1m258/258\u001b[0m \u001b[32m━━━━━━━━━━━━━━━━━━━━\u001b[0m\u001b[37m\u001b[0m \u001b[1m28s\u001b[0m 107ms/step - accuracy: 0.1269 - loss: 2.2908 - val_accuracy: 0.1772 - val_loss: 2.2347\n",
      "Epoch 7/100\n",
      "\u001b[1m258/258\u001b[0m \u001b[32m━━━━━━━━━━━━━━━━━━━━\u001b[0m\u001b[37m\u001b[0m \u001b[1m31s\u001b[0m 117ms/step - accuracy: 0.1395 - loss: 2.2532 - val_accuracy: 0.1801 - val_loss: 2.1735\n",
      "Epoch 8/100\n",
      "\u001b[1m258/258\u001b[0m \u001b[32m━━━━━━━━━━━━━━━━━━━━\u001b[0m\u001b[37m\u001b[0m \u001b[1m27s\u001b[0m 103ms/step - accuracy: 0.1489 - loss: 2.1998 - val_accuracy: 0.1990 - val_loss: 2.0869\n",
      "Epoch 9/100\n",
      "\u001b[1m258/258\u001b[0m \u001b[32m━━━━━━━━━━━━━━━━━━━━\u001b[0m\u001b[37m\u001b[0m \u001b[1m27s\u001b[0m 104ms/step - accuracy: 0.1811 - loss: 2.1038 - val_accuracy: 0.1917 - val_loss: 1.9638\n",
      "Epoch 10/100\n",
      "\u001b[1m258/258\u001b[0m \u001b[32m━━━━━━━━━━━━━━━━━━━━\u001b[0m\u001b[37m\u001b[0m \u001b[1m29s\u001b[0m 111ms/step - accuracy: 0.1891 - loss: 2.0076 - val_accuracy: 0.2092 - val_loss: 1.8395\n",
      "Epoch 11/100\n",
      "\u001b[1m258/258\u001b[0m \u001b[32m━━━━━━━━━━━━━━━━━━━━\u001b[0m\u001b[37m\u001b[0m \u001b[1m30s\u001b[0m 113ms/step - accuracy: 0.1954 - loss: 1.9224 - val_accuracy: 0.2136 - val_loss: 1.7976\n",
      "Epoch 12/100\n",
      "\u001b[1m258/258\u001b[0m \u001b[32m━━━━━━━━━━━━━━━━━━━━\u001b[0m\u001b[37m\u001b[0m \u001b[1m45s\u001b[0m 170ms/step - accuracy: 0.1953 - loss: 1.8632 - val_accuracy: 0.2097 - val_loss: 1.7399\n",
      "Epoch 13/100\n",
      "\u001b[1m258/258\u001b[0m \u001b[32m━━━━━━━━━━━━━━━━━━━━\u001b[0m\u001b[37m\u001b[0m \u001b[1m50s\u001b[0m 191ms/step - accuracy: 0.2049 - loss: 1.8072 - val_accuracy: 0.2180 - val_loss: 1.7007\n",
      "Epoch 14/100\n",
      "\u001b[1m258/258\u001b[0m \u001b[32m━━━━━━━━━━━━━━━━━━━━\u001b[0m\u001b[37m\u001b[0m \u001b[1m53s\u001b[0m 198ms/step - accuracy: 0.2115 - loss: 1.7812 - val_accuracy: 0.2209 - val_loss: 1.6791\n",
      "Epoch 15/100\n",
      "\u001b[1m258/258\u001b[0m \u001b[32m━━━━━━━━━━━━━━━━━━━━\u001b[0m\u001b[37m\u001b[0m \u001b[1m50s\u001b[0m 191ms/step - accuracy: 0.2064 - loss: 1.7675 - val_accuracy: 0.2243 - val_loss: 1.6612\n",
      "Epoch 16/100\n",
      "\u001b[1m258/258\u001b[0m \u001b[32m━━━━━━━━━━━━━━━━━━━━\u001b[0m\u001b[37m\u001b[0m \u001b[1m48s\u001b[0m 182ms/step - accuracy: 0.2104 - loss: 1.7305 - val_accuracy: 0.2204 - val_loss: 1.6532\n",
      "Epoch 17/100\n",
      "\u001b[1m258/258\u001b[0m \u001b[32m━━━━━━━━━━━━━━━━━━━━\u001b[0m\u001b[37m\u001b[0m \u001b[1m51s\u001b[0m 192ms/step - accuracy: 0.2196 - loss: 1.7230 - val_accuracy: 0.2243 - val_loss: 1.6464\n",
      "Epoch 18/100\n",
      "\u001b[1m258/258\u001b[0m \u001b[32m━━━━━━━━━━━━━━━━━━━━\u001b[0m\u001b[37m\u001b[0m \u001b[1m47s\u001b[0m 178ms/step - accuracy: 0.2080 - loss: 1.7114 - val_accuracy: 0.2330 - val_loss: 1.6361\n",
      "Epoch 19/100\n",
      "\u001b[1m258/258\u001b[0m \u001b[32m━━━━━━━━━━━━━━━━━━━━\u001b[0m\u001b[37m\u001b[0m \u001b[1m48s\u001b[0m 183ms/step - accuracy: 0.2163 - loss: 1.7030 - val_accuracy: 0.2320 - val_loss: 1.6303\n",
      "Epoch 20/100\n",
      "\u001b[1m258/258\u001b[0m \u001b[32m━━━━━━━━━━━━━━━━━━━━\u001b[0m\u001b[37m\u001b[0m \u001b[1m33s\u001b[0m 126ms/step - accuracy: 0.2161 - loss: 1.6843 - val_accuracy: 0.2262 - val_loss: 1.6250\n",
      "Epoch 21/100\n",
      "\u001b[1m258/258\u001b[0m \u001b[32m━━━━━━━━━━━━━━━━━━━━\u001b[0m\u001b[37m\u001b[0m \u001b[1m54s\u001b[0m 207ms/step - accuracy: 0.2250 - loss: 1.6737 - val_accuracy: 0.2408 - val_loss: 1.6237\n",
      "Epoch 22/100\n",
      "\u001b[1m258/258\u001b[0m \u001b[32m━━━━━━━━━━━━━━━━━━━━\u001b[0m\u001b[37m\u001b[0m \u001b[1m59s\u001b[0m 227ms/step - accuracy: 0.2274 - loss: 1.6713 - val_accuracy: 0.2447 - val_loss: 1.6184\n",
      "Epoch 23/100\n",
      "\u001b[1m258/258\u001b[0m \u001b[32m━━━━━━━━━━━━━━━━━━━━\u001b[0m\u001b[37m\u001b[0m \u001b[1m49s\u001b[0m 184ms/step - accuracy: 0.2199 - loss: 1.6623 - val_accuracy: 0.2413 - val_loss: 1.6222\n",
      "Epoch 24/100\n",
      "\u001b[1m258/258\u001b[0m \u001b[32m━━━━━━━━━━━━━━━━━━━━\u001b[0m\u001b[37m\u001b[0m \u001b[1m51s\u001b[0m 194ms/step - accuracy: 0.2300 - loss: 1.6643 - val_accuracy: 0.2466 - val_loss: 1.6105\n",
      "Epoch 25/100\n",
      "\u001b[1m258/258\u001b[0m \u001b[32m━━━━━━━━━━━━━━━━━━━━\u001b[0m\u001b[37m\u001b[0m \u001b[1m50s\u001b[0m 189ms/step - accuracy: 0.2198 - loss: 1.6524 - val_accuracy: 0.2408 - val_loss: 1.6103\n",
      "Epoch 26/100\n",
      "\u001b[1m258/258\u001b[0m \u001b[32m━━━━━━━━━━━━━━━━━━━━\u001b[0m\u001b[37m\u001b[0m \u001b[1m50s\u001b[0m 191ms/step - accuracy: 0.2339 - loss: 1.6429 - val_accuracy: 0.2466 - val_loss: 1.6019\n",
      "Epoch 27/100\n",
      "\u001b[1m258/258\u001b[0m \u001b[32m━━━━━━━━━━━━━━━━━━━━\u001b[0m\u001b[37m\u001b[0m \u001b[1m31s\u001b[0m 120ms/step - accuracy: 0.2352 - loss: 1.6339 - val_accuracy: 0.2553 - val_loss: 1.6037\n",
      "Epoch 28/100\n",
      "\u001b[1m258/258\u001b[0m \u001b[32m━━━━━━━━━━━━━━━━━━━━\u001b[0m\u001b[37m\u001b[0m \u001b[1m27s\u001b[0m 103ms/step - accuracy: 0.2317 - loss: 1.6234 - val_accuracy: 0.2553 - val_loss: 1.5988\n",
      "Epoch 29/100\n",
      "\u001b[1m258/258\u001b[0m \u001b[32m━━━━━━━━━━━━━━━━━━━━\u001b[0m\u001b[37m\u001b[0m \u001b[1m27s\u001b[0m 104ms/step - accuracy: 0.2250 - loss: 1.6347 - val_accuracy: 0.2568 - val_loss: 1.5941\n",
      "Epoch 30/100\n",
      "\u001b[1m258/258\u001b[0m \u001b[32m━━━━━━━━━━━━━━━━━━━━\u001b[0m\u001b[37m\u001b[0m \u001b[1m27s\u001b[0m 104ms/step - accuracy: 0.2383 - loss: 1.6207 - val_accuracy: 0.2587 - val_loss: 1.5904\n",
      "Epoch 31/100\n",
      "\u001b[1m258/258\u001b[0m \u001b[32m━━━━━━━━━━━━━━━━━━━━\u001b[0m\u001b[37m\u001b[0m \u001b[1m27s\u001b[0m 103ms/step - accuracy: 0.2429 - loss: 1.6076 - val_accuracy: 0.2587 - val_loss: 1.5874\n",
      "Epoch 32/100\n",
      "\u001b[1m258/258\u001b[0m \u001b[32m━━━━━━━━━━━━━━━━━━━━\u001b[0m\u001b[37m\u001b[0m \u001b[1m28s\u001b[0m 107ms/step - accuracy: 0.2378 - loss: 1.6093 - val_accuracy: 0.2592 - val_loss: 1.5818\n",
      "Epoch 33/100\n",
      "\u001b[1m258/258\u001b[0m \u001b[32m━━━━━━━━━━━━━━━━━━━━\u001b[0m\u001b[37m\u001b[0m \u001b[1m27s\u001b[0m 104ms/step - accuracy: 0.2479 - loss: 1.5982 - val_accuracy: 0.2748 - val_loss: 1.5782\n",
      "Epoch 34/100\n",
      "\u001b[1m258/258\u001b[0m \u001b[32m━━━━━━━━━━━━━━━━━━━━\u001b[0m\u001b[37m\u001b[0m \u001b[1m27s\u001b[0m 104ms/step - accuracy: 0.2494 - loss: 1.5869 - val_accuracy: 0.2811 - val_loss: 1.5709\n",
      "Epoch 35/100\n",
      "\u001b[1m258/258\u001b[0m \u001b[32m━━━━━━━━━━━━━━━━━━━━\u001b[0m\u001b[37m\u001b[0m \u001b[1m27s\u001b[0m 104ms/step - accuracy: 0.2684 - loss: 1.5636 - val_accuracy: 0.2777 - val_loss: 1.5661\n",
      "Epoch 36/100\n",
      "\u001b[1m258/258\u001b[0m \u001b[32m━━━━━━━━━━━━━━━━━━━━\u001b[0m\u001b[37m\u001b[0m \u001b[1m28s\u001b[0m 108ms/step - accuracy: 0.2595 - loss: 1.5581 - val_accuracy: 0.2859 - val_loss: 1.5508\n",
      "Epoch 37/100\n",
      "\u001b[1m258/258\u001b[0m \u001b[32m━━━━━━━━━━━━━━━━━━━━\u001b[0m\u001b[37m\u001b[0m \u001b[1m28s\u001b[0m 105ms/step - accuracy: 0.2658 - loss: 1.5535 - val_accuracy: 0.2888 - val_loss: 1.5379\n",
      "Epoch 38/100\n",
      "\u001b[1m258/258\u001b[0m \u001b[32m━━━━━━━━━━━━━━━━━━━━\u001b[0m\u001b[37m\u001b[0m \u001b[1m32s\u001b[0m 123ms/step - accuracy: 0.2722 - loss: 1.5347 - val_accuracy: 0.2854 - val_loss: 1.5361\n",
      "Epoch 39/100\n",
      "\u001b[1m 88/258\u001b[0m \u001b[32m━━━━━━\u001b[0m\u001b[37m━━━━━━━━━━━━━━\u001b[0m \u001b[1m14s\u001b[0m 84ms/step - accuracy: 0.2669 - loss: 1.5259"
     ]
    }
   ],
   "source": [
    "# Train the model with the modified configuration\n",
    "history = model.fit(\n",
    "    train_generator,\n",
    "    epochs=100,\n",
    "    validation_data=validation_generator,\n",
    "    callbacks=[early_stopping]\n",
    ")"
   ]
  },
  {
   "cell_type": "code",
   "execution_count": 6,
   "id": "e865643e-0071-4206-b10f-32380255aff6",
   "metadata": {},
   "outputs": [
    {
     "ename": "NameError",
     "evalue": "name 'model' is not defined",
     "output_type": "error",
     "traceback": [
      "\u001b[0;31m---------------------------------------------------------------------------\u001b[0m",
      "\u001b[0;31mNameError\u001b[0m                                 Traceback (most recent call last)",
      "Cell \u001b[0;32mIn[6], line 2\u001b[0m\n\u001b[1;32m      1\u001b[0m \u001b[38;5;66;03m# Save the trained model\u001b[39;00m\n\u001b[0;32m----> 2\u001b[0m model\u001b[38;5;241m.\u001b[39msave(\u001b[38;5;124m'\u001b[39m\u001b[38;5;124mucid_cnn_model.h5\u001b[39m\u001b[38;5;124m'\u001b[39m)\n",
      "\u001b[0;31mNameError\u001b[0m: name 'model' is not defined"
     ]
    }
   ],
   "source": [
    "# Save the trained model\n",
    "model.save('ucid_cnn_model.h5')"
   ]
  },
  {
   "cell_type": "code",
   "execution_count": 4,
   "id": "2d27262b-6327-4c5a-8ffd-ceb29ae64391",
   "metadata": {},
   "outputs": [
    {
     "ename": "NameError",
     "evalue": "name 'model' is not defined",
     "output_type": "error",
     "traceback": [
      "\u001b[0;31m---------------------------------------------------------------------------\u001b[0m",
      "\u001b[0;31mNameError\u001b[0m                                 Traceback (most recent call last)",
      "Cell \u001b[0;32mIn[4], line 2\u001b[0m\n\u001b[1;32m      1\u001b[0m \u001b[38;5;66;03m# Evaluate the model on validation data\u001b[39;00m\n\u001b[0;32m----> 2\u001b[0m val_loss, val_acc \u001b[38;5;241m=\u001b[39m model\u001b[38;5;241m.\u001b[39mevaluate(validation_generator)\n\u001b[1;32m      3\u001b[0m \u001b[38;5;28mprint\u001b[39m(\u001b[38;5;124mf\u001b[39m\u001b[38;5;124m\"\u001b[39m\u001b[38;5;124mValidation Accuracy: \u001b[39m\u001b[38;5;132;01m{\u001b[39;00mval_acc\u001b[38;5;132;01m}\u001b[39;00m\u001b[38;5;124m\"\u001b[39m)\n",
      "\u001b[0;31mNameError\u001b[0m: name 'model' is not defined"
     ]
    }
   ],
   "source": [
    "# Evaluate the model on validation data\n",
    "val_loss, val_acc = model.evaluate(validation_generator)\n",
    "print(f\"Validation Accuracy: {val_acc}\")"
   ]
  },
  {
   "cell_type": "code",
   "execution_count": 2,
   "id": "fc4b94b3-1593-464d-936b-e2552e96d43e",
   "metadata": {},
   "outputs": [
    {
     "ename": "NameError",
     "evalue": "name 'model' is not defined",
     "output_type": "error",
     "traceback": [
      "\u001b[0;31m---------------------------------------------------------------------------\u001b[0m",
      "\u001b[0;31mNameError\u001b[0m                                 Traceback (most recent call last)",
      "Cell \u001b[0;32mIn[2], line 2\u001b[0m\n\u001b[1;32m      1\u001b[0m \u001b[38;5;66;03m# Evaluate the model on validation data\u001b[39;00m\n\u001b[0;32m----> 2\u001b[0m train_loss, train_acc \u001b[38;5;241m=\u001b[39m model\u001b[38;5;241m.\u001b[39mevaluate(train_generator)\n\u001b[1;32m      3\u001b[0m \u001b[38;5;28mprint\u001b[39m(\u001b[38;5;124mf\u001b[39m\u001b[38;5;124m\"\u001b[39m\u001b[38;5;124mTraining Accuracy: \u001b[39m\u001b[38;5;132;01m{\u001b[39;00mtrain_acc\u001b[38;5;132;01m}\u001b[39;00m\u001b[38;5;124m\"\u001b[39m)\n",
      "\u001b[0;31mNameError\u001b[0m: name 'model' is not defined"
     ]
    }
   ],
   "source": [
    "# Evaluate the model on validation data\n",
    "train_loss, train_acc = model.evaluate(train_generator)\n",
    "print(f\"Training Accuracy: {train_acc}\")"
   ]
  },
  {
   "cell_type": "code",
   "execution_count": null,
   "id": "5acf82f7-fb04-4715-8de6-711d2c25da62",
   "metadata": {},
   "outputs": [],
   "source": []
  }
 ],
 "metadata": {
  "kernelspec": {
   "display_name": "Python 3 (ipykernel)",
   "language": "python",
   "name": "python3"
  },
  "language_info": {
   "codemirror_mode": {
    "name": "ipython",
    "version": 3
   },
   "file_extension": ".py",
   "mimetype": "text/x-python",
   "name": "python",
   "nbconvert_exporter": "python",
   "pygments_lexer": "ipython3",
   "version": "3.11.5"
  }
 },
 "nbformat": 4,
 "nbformat_minor": 5
}
